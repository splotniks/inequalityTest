{
 "cells": [
  {
   "cell_type": "markdown",
   "id": "828fe32b",
   "metadata": {},
   "source": [
    "# Below are various interactive graphs to introduce different inequality measures.\n",
    "\n",
    "### Follow the insttructions with each graph. They will update live and do not require any coding background to use. "
   ]
  },
  {
   "cell_type": "code",
   "execution_count": 17,
   "id": "129c8cc9",
   "metadata": {},
   "outputs": [],
   "source": [
    "import method_tester as mt\n",
    "DATA_URL = 'https://raw.githubusercontent.com/splotniks/inequal4/main/GCIPrawdata.csv'"
   ]
  },
  {
   "cell_type": "markdown",
   "id": "e2950416",
   "metadata": {},
   "source": [
    "## Graph 1"
   ]
  },
  {
   "cell_type": "code",
   "execution_count": 5,
   "id": "cfed4120",
   "metadata": {},
   "outputs": [
    {
     "data": {
      "application/vnd.jupyter.widget-view+json": {
       "model_id": "010af3ef5d374384b465261af1ea09c4",
       "version_major": 2,
       "version_minor": 0
      },
      "text/plain": [
       "VBox(children=(HTML(value='<h1>Simple Inequality Measures</h1>\\n                    <p><em>Comparisons within …"
      ]
     },
     "metadata": {},
     "output_type": "display_data"
    }
   ],
   "source": [
    "app1 = mt.App1.from_url(DATA_URL)\n",
    "app1.container"
   ]
  },
  {
   "cell_type": "markdown",
   "id": "933c7d07",
   "metadata": {},
   "source": [
    "## Graph 2"
   ]
  },
  {
   "cell_type": "code",
   "execution_count": 4,
   "id": "b4222ea8",
   "metadata": {},
   "outputs": [
    {
     "data": {
      "application/vnd.jupyter.widget-view+json": {
       "model_id": "488f3b801cef49f89b847300d022c1eb",
       "version_major": 2,
       "version_minor": 0
      },
      "text/plain": [
       "VBox(children=(HTML(value='<h1>Simple Inequality Measure</h1>\\n                    <p><em>Comparisons between …"
      ]
     },
     "metadata": {},
     "output_type": "display_data"
    }
   ],
   "source": [
    "app2 = mt.App2.from_url(DATA_URL)\n",
    "app2.container"
   ]
  },
  {
   "cell_type": "markdown",
   "id": "0c3e188e",
   "metadata": {},
   "source": [
    "\n",
    "\n",
    "## Graph 3\n",
    "\n"
   ]
  },
  {
   "cell_type": "code",
   "execution_count": 7,
   "id": "c37c6e9d",
   "metadata": {},
   "outputs": [
    {
     "data": {
      "application/vnd.jupyter.widget-view+json": {
       "model_id": "cb42d0123d884178b935b11e4323c153",
       "version_major": 2,
       "version_minor": 0
      },
      "text/plain": [
       "VBox(children=(HTML(value='<h1>Your Own Inequality Measure</h1>\\n                    <p><em>Select two differe…"
      ]
     },
     "metadata": {},
     "output_type": "display_data"
    }
   ],
   "source": [
    "app3 = mt.App3.from_url(DATA_URL)\n",
    "app3.container"
   ]
  },
  {
   "cell_type": "markdown",
   "id": "fbc5d394",
   "metadata": {},
   "source": [
    "## Graph 4:\n",
    "\n",
    "### For this graph, you will select a number from this drop down"
   ]
  },
  {
   "cell_type": "code",
   "execution_count": 8,
   "id": "80a0d2ad",
   "metadata": {},
   "outputs": [
    {
     "data": {
      "application/vnd.jupyter.widget-view+json": {
       "model_id": "8551c03365e74da48be544793e622b05",
       "version_major": 2,
       "version_minor": 0
      },
      "text/plain": [
       "VBox(children=(HTML(value='Select the number of societies you would like to compare\\n                    <p><e…"
      ]
     },
     "metadata": {},
     "output_type": "display_data"
    }
   ],
   "source": [
    "counter1 = mt.App4.from_url(DATA_URL)\n",
    "counter1.container"
   ]
  },
  {
   "cell_type": "markdown",
   "id": "66ce81fb",
   "metadata": {},
   "source": [
    "### Once you have selected your number: you will need to rerun the next block of code to update the number of entries. (Select the run button on only the following block.) It will then live update the graph. "
   ]
  },
  {
   "cell_type": "code",
   "execution_count": 18,
   "id": "ee1071ee",
   "metadata": {},
   "outputs": [
    {
     "data": {
      "application/vnd.jupyter.widget-view+json": {
       "model_id": "369b7cf1b81c49819cb27318ff6b99b4",
       "version_major": 2,
       "version_minor": 0
      },
      "text/plain": [
       "VBox(children=(HTML(value='<h1>Compare multiple countries</h1>\\n                    <p><em></em><p>\\n', layout…"
      ]
     },
     "metadata": {},
     "output_type": "display_data"
    }
   ],
   "source": [
    "#need to refresh this method when you change the previous num!\n",
    "app5 = mt.App5.from_url(DATA_URL,counter1._num)\n",
    "app5.container"
   ]
  },
  {
   "cell_type": "markdown",
   "id": "9bf519a2",
   "metadata": {},
   "source": [
    "# Lorenz Curves\n",
    "## Graph 5\n",
    "### Like the previous example, after you pick a number, you will have to rerun the graph block. "
   ]
  },
  {
   "cell_type": "code",
   "execution_count": 12,
   "id": "d72482eb",
   "metadata": {},
   "outputs": [
    {
     "data": {
      "application/vnd.jupyter.widget-view+json": {
       "model_id": "ecf95c71f0824851856333f167af3098",
       "version_major": 2,
       "version_minor": 0
      },
      "text/plain": [
       "VBox(children=(HTML(value='Select the number of societies you would like to compare\\n                    <p><e…"
      ]
     },
     "metadata": {},
     "output_type": "display_data"
    }
   ],
   "source": [
    "count2 = mt.App4.from_url(DATA_URL)\n",
    "count2.container"
   ]
  },
  {
   "cell_type": "code",
   "execution_count": 13,
   "id": "fdf06586",
   "metadata": {},
   "outputs": [
    {
     "data": {
      "application/vnd.jupyter.widget-view+json": {
       "model_id": "5e45ea76f6434e509864b8f2846e39c8",
       "version_major": 2,
       "version_minor": 0
      },
      "text/plain": [
       "VBox(children=(HTML(value='<h1>Create your own LCs from income distributions</h1>\\n                    <p><em>…"
      ]
     },
     "metadata": {},
     "output_type": "display_data"
    }
   ],
   "source": [
    "mlc1 = mt.multiLC.create(count2._num)\n",
    "mlc1.container"
   ]
  },
  {
   "cell_type": "markdown",
   "id": "300942b2",
   "metadata": {},
   "source": [
    "# Gini Calculator\n",
    "## Graph 6\n",
    "### Like the previous example, after you pick a number, you will have to rerun the graph block. "
   ]
  },
  {
   "cell_type": "code",
   "execution_count": 14,
   "id": "f172551f",
   "metadata": {},
   "outputs": [
    {
     "data": {
      "application/vnd.jupyter.widget-view+json": {
       "model_id": "cbbd426d60f94078ac9766321e06d133",
       "version_major": 2,
       "version_minor": 0
      },
      "text/plain": [
       "VBox(children=(HTML(value='Select the number of societies you would like to compare\\n                    <p><e…"
      ]
     },
     "metadata": {},
     "output_type": "display_data"
    }
   ],
   "source": [
    "count3 = mt.App4.from_url(DATA_URL)\n",
    "count3.container"
   ]
  },
  {
   "cell_type": "code",
   "execution_count": 16,
   "id": "bcc3506b",
   "metadata": {},
   "outputs": [
    {
     "data": {
      "application/vnd.jupyter.widget-view+json": {
       "model_id": "93ff5aa713744f98a193b28aa30de737",
       "version_major": 2,
       "version_minor": 0
      },
      "text/plain": [
       "VBox(children=(HTML(value='<h1>Find Gini from income distributions</h1>\\n                    <p><em>Enter in t…"
      ]
     },
     "metadata": {},
     "output_type": "display_data"
    }
   ],
   "source": [
    "gini1 = mt.Gini.create(count3._num)\n",
    "gini1.container"
   ]
  }
 ],
 "metadata": {
  "kernelspec": {
   "display_name": "Python 3",
   "language": "python",
   "name": "python3"
  },
  "language_info": {
   "codemirror_mode": {
    "name": "ipython",
    "version": 3
   },
   "file_extension": ".py",
   "mimetype": "text/x-python",
   "name": "python",
   "nbconvert_exporter": "python",
   "pygments_lexer": "ipython3",
   "version": "3.7.4"
  }
 },
 "nbformat": 4,
 "nbformat_minor": 5
}
